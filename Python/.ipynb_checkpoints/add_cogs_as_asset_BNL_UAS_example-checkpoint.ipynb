{
 "cells": [
  {
   "cell_type": "code",
   "execution_count": 1,
   "id": "c1a2886b-6397-484d-8bc7-3d095fe2daed",
   "metadata": {},
   "outputs": [],
   "source": [
    "# Example source: https://developers.google.com/earth-engine/Earth_Engine_asset_from_cloud_geotiff\n",
    "\n",
    "# This has details about the Earth Engine Python Authenticator client.\n",
    "from ee import oauth\n",
    "from google_auth_oauthlib.flow import Flow\n",
    "import json"
   ]
  },
  {
   "cell_type": "code",
   "execution_count": 2,
   "id": "7dd51bac-41fc-4f5d-bc65-d6452c150eb5",
   "metadata": {},
   "outputs": [],
   "source": [
    "# Build the `client_secrets.json` file by borrowing the\n",
    "# Earth Engine python authenticator.\n",
    "client_secrets = {\n",
    "    'web': {\n",
    "        'client_id': oauth.CLIENT_ID,\n",
    "        'client_secret': oauth.CLIENT_SECRET,\n",
    "        'redirect_uris': [oauth.REDIRECT_URI],\n",
    "        'auth_uri': 'https://accounts.google.com/o/oauth2/auth',\n",
    "        'token_uri': 'https://accounts.google.com/o/oauth2/token'\n",
    "    }\n",
    "}"
   ]
  },
  {
   "cell_type": "code",
   "execution_count": 3,
   "id": "387017d4-02fd-490f-be44-d61c183736bb",
   "metadata": {},
   "outputs": [],
   "source": [
    "# Write to a json file.\n",
    "client_secrets_file = 'client_secrets.json'\n",
    "with open(client_secrets_file, 'w') as f:\n",
    "  json.dump(client_secrets, f, indent=2)"
   ]
  },
  {
   "cell_type": "code",
   "execution_count": 4,
   "id": "5ef5f3b7-8c0c-4d77-b8af-ad29afb501d8",
   "metadata": {},
   "outputs": [],
   "source": [
    "# Start the flow using the client_secrets.json file.\n",
    "flow = Flow.from_client_secrets_file(client_secrets_file,\n",
    "    scopes=oauth.SCOPES,\n",
    "    redirect_uri=oauth.REDIRECT_URI)"
   ]
  },
  {
   "cell_type": "code",
   "execution_count": 5,
   "id": "d855f900-516a-4a7d-9a6a-2543281a6879",
   "metadata": {},
   "outputs": [],
   "source": [
    "# Get the authorization URL from the flow.\n",
    "auth_url, _ = flow.authorization_url(prompt='consent')"
   ]
  },
  {
   "cell_type": "raw",
   "id": "c2068654-41fc-4f3c-abe7-1d7906db091c",
   "metadata": {},
   "source": [
    "# Print instructions to go to the authorization URL.\n",
    "oauth._display_auth_instructions_with_print(auth_url)\n",
    "print('\\n')\n",
    "print('\\n')\n",
    "print(\"after entering key hit enter to store\")\n",
    "\n",
    "# The user will get an authorization code.\n",
    "# This code is used to get the access token.\n",
    "code = input('Enter the authorization code: \\n')\n",
    "flow.fetch_token(code=code)\n",
    "\n",
    "# Get an authorized session from the flow.\n",
    "session = flow.authorized_session()\n"
   ]
  },
  {
   "cell_type": "code",
   "execution_count": 19,
   "id": "8ef40c2d-31fb-44ca-9ef0-354bbc37738e",
   "metadata": {},
   "outputs": [
    {
     "name": "stdout",
     "output_type": "stream",
     "text": [
      "('{\"type\": \"IMAGE\", \"gcs_location\": {\"uris\": '\n",
      " '[\"gs://bnl_uas_data/NGEEArctic_UAS_Kougarok_20180725_Flight6_RGB_cog.tif\"]}, '\n",
      " '\"properties\": {\"source\": \"https://osf.io/erv4m/download\"}, \"startTime\": '\n",
      " '\"2018-07-25T00:00:00.000000000Z\", \"endTime\": '\n",
      " '\"2018-07-26T00:00:00.000000000Z\"}')\n"
     ]
    }
   ],
   "source": [
    "#Request body\n",
    "#The request body is an instance of an EarthEngineAsset. This is where the path to the COG is specified, along with other useful properties. Note that the image is a small area exported from the composite made in this example script. See this doc for details on exporting a COG.\n",
    "\n",
    "#Earth Engine will determine the bands, geometry, and other relevant information from the metadata of the TIFF. The only other fields that are accepted when creating a COG-backed asset are properties, start_time, and end_time.\n",
    "\n",
    "\n",
    "# Request body as a dictionary.\n",
    "request = {\n",
    "  'type': 'IMAGE',\n",
    "  'gcs_location': {\n",
    "    'uris': ['gs://bnl_uas_data/NGEEArctic_UAS_Kougarok_20180725_Flight6_RGB_cog.tif']\n",
    "  },\n",
    "  'properties': {\n",
    "    'source': 'https://osf.io/erv4m/download'\n",
    "  },\n",
    "    'startTime': '2018-07-25T00:00:00.000000000Z',\n",
    "    'endTime': '2018-07-26T00:00:00.000000000Z',\n",
    "}\n",
    "\n",
    "from pprint import pprint\n",
    "pprint(json.dumps(request))"
   ]
  },
  {
   "cell_type": "code",
   "execution_count": 21,
   "id": "35dbb054-269b-4630-8d4a-763cd1a8fc40",
   "metadata": {},
   "outputs": [
    {
     "name": "stdout",
     "output_type": "stream",
     "text": [
      "{'bands': [{'dataType': {'precision': 'FLOAT'},\n",
      "            'grid': {'affineTransform': {'scaleX': 0.01,\n",
      "                                         'scaleY': -0.01,\n",
      "                                         'translateX': 508169.23,\n",
      "                                         'translateY': 7226835.705},\n",
      "                     'crsCode': 'EPSG:32603',\n",
      "                     'dimensions': {'height': 14148, 'width': 22850}},\n",
      "            'id': 'B0',\n",
      "            'pyramidingPolicy': 'MEAN'},\n",
      "           {'dataType': {'precision': 'FLOAT'},\n",
      "            'grid': {'affineTransform': {'scaleX': 0.01,\n",
      "                                         'scaleY': -0.01,\n",
      "                                         'translateX': 508169.23,\n",
      "                                         'translateY': 7226835.705},\n",
      "                     'crsCode': 'EPSG:32603',\n",
      "                     'dimensions': {'height': 14148, 'width': 22850}},\n",
      "            'id': 'B1',\n",
      "            'pyramidingPolicy': 'MEAN'},\n",
      "           {'dataType': {'precision': 'FLOAT'},\n",
      "            'grid': {'affineTransform': {'scaleX': 0.01,\n",
      "                                         'scaleY': -0.01,\n",
      "                                         'translateX': 508169.23,\n",
      "                                         'translateY': 7226835.705},\n",
      "                     'crsCode': 'EPSG:32603',\n",
      "                     'dimensions': {'height': 14148, 'width': 22850}},\n",
      "            'id': 'B2',\n",
      "            'pyramidingPolicy': 'MEAN'}],\n",
      " 'cloudStorageLocation': {'uris': ['gs://bnl_uas_data/NGEEArctic_UAS_Kougarok_20180725_Flight6_RGB_cog.tif#1626117340536036']},\n",
      " 'endTime': '2018-07-26T00:00:00Z',\n",
      " 'geometry': {'coordinates': [[-164.82568886491507, 65.164827027763],\n",
      "                              [-164.82569739856973, 65.16355748353689],\n",
      "                              [-164.82082213773242, 65.16355175522504],\n",
      "                              [-164.82081353430473, 65.16482131284346],\n",
      "                              [-164.82568886491507, 65.164827027763]],\n",
      "              'type': 'LineString'},\n",
      " 'id': 'users/serbinsh/uas_data/NGEEArctic_UAS_Kougarok_20180725_Flight6_RGB_cog',\n",
      " 'name': 'projects/earthengine-legacy/assets/users/serbinsh/uas_data/NGEEArctic_UAS_Kougarok_20180725_Flight6_RGB_cog',\n",
      " 'properties': {'source': 'https://osf.io/erv4m/download'},\n",
      " 'startTime': '2018-07-25T00:00:00Z',\n",
      " 'type': 'IMAGE',\n",
      " 'updateTime': '2021-07-12T19:56:09.061480Z'}\n"
     ]
    }
   ],
   "source": [
    "#Send the request\n",
    "#Make the POST request to the Earth Engine CreateAsset endpoint.\n",
    "\n",
    "# Where Earth Engine assets are kept.\n",
    "project_folder = 'earthengine-legacy'\n",
    "# Your user folder name and new asset name.\n",
    "asset_id = 'users/serbinsh/uas_data/NGEEArctic_UAS_Kougarok_20180725_Flight6_RGB_cog'\n",
    "\n",
    "url = 'https://earthengine.googleapis.com/v1alpha/projects/{}/assets?assetId={}'\n",
    "\n",
    "response = session.post(\n",
    "  url = url.format(project_folder, asset_id),\n",
    "  data = json.dumps(request)\n",
    ")\n",
    "\n",
    "pprint(json.loads(response.content))"
   ]
  }
 ],
 "metadata": {
  "kernelspec": {
   "display_name": "Python 3 (ipykernel)",
   "language": "python",
   "name": "python3"
  },
  "language_info": {
   "codemirror_mode": {
    "name": "ipython",
    "version": 3
   },
   "file_extension": ".py",
   "mimetype": "text/x-python",
   "name": "python",
   "nbconvert_exporter": "python",
   "pygments_lexer": "ipython3",
   "version": "3.9.6"
  }
 },
 "nbformat": 4,
 "nbformat_minor": 5
}
