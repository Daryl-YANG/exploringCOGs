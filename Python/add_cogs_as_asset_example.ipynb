{
 "cells": [
  {
   "cell_type": "code",
   "execution_count": 24,
   "id": "c502b3c6-9fa9-429d-be3f-00cb4e32c744",
   "metadata": {},
   "outputs": [],
   "source": [
    "# Example source: https://developers.google.com/earth-engine/Earth_Engine_asset_from_cloud_geotiff\n",
    "\n",
    "# This has details about the Earth Engine Python Authenticator client.\n",
    "from ee import oauth\n",
    "from google_auth_oauthlib.flow import Flow\n",
    "import json"
   ]
  },
  {
   "cell_type": "code",
   "execution_count": 25,
   "id": "3840dcd4-186d-4cab-b8db-f87b00b99161",
   "metadata": {},
   "outputs": [],
   "source": [
    "# Build the `client_secrets.json` file by borrowing the\n",
    "# Earth Engine python authenticator.\n",
    "client_secrets = {\n",
    "    'web': {\n",
    "        'client_id': oauth.CLIENT_ID,\n",
    "        'client_secret': oauth.CLIENT_SECRET,\n",
    "        'redirect_uris': [oauth.REDIRECT_URI],\n",
    "        'auth_uri': 'https://accounts.google.com/o/oauth2/auth',\n",
    "        'token_uri': 'https://accounts.google.com/o/oauth2/token'\n",
    "    }\n",
    "}"
   ]
  },
  {
   "cell_type": "code",
   "execution_count": 26,
   "id": "0c09b5eb-9af2-4a96-877e-7f7b64224cbe",
   "metadata": {},
   "outputs": [],
   "source": [
    "# Write to a json file.\n",
    "client_secrets_file = 'client_secrets.json'\n",
    "with open(client_secrets_file, 'w') as f:\n",
    "  json.dump(client_secrets, f, indent=2)"
   ]
  },
  {
   "cell_type": "code",
   "execution_count": 27,
   "id": "aaf983bc-08e1-4bfe-b83b-90454e525571",
   "metadata": {},
   "outputs": [],
   "source": [
    "# Start the flow using the client_secrets.json file.\n",
    "flow = Flow.from_client_secrets_file(client_secrets_file,\n",
    "    scopes=oauth.SCOPES,\n",
    "    redirect_uri=oauth.REDIRECT_URI)"
   ]
  },
  {
   "cell_type": "code",
   "execution_count": 28,
   "id": "c2dde1eb-da39-43a5-8bd3-a6f10284bde7",
   "metadata": {},
   "outputs": [],
   "source": [
    "# Get the authorization URL from the flow.\n",
    "auth_url, _ = flow.authorization_url(prompt='consent')"
   ]
  },
  {
   "cell_type": "raw",
   "id": "d8a40651-9a79-4dd2-840a-51bd1bdd12f1",
   "metadata": {},
   "source": [
    "# Print instructions to go to the authorization URL.\n",
    "oauth._display_auth_instructions_with_print(auth_url)\n",
    "print('\\n')\n",
    "print('\\n')\n",
    "print(\"after entering key hit enter to store\")\n",
    "\n",
    "# The user will get an authorization code.\n",
    "# This code is used to get the access token.\n",
    "code = input('Enter the authorization code: \\n')\n",
    "flow.fetch_token(code=code)\n",
    "\n",
    "# Get an authorized session from the flow.\n",
    "session = flow.authorized_session()\n",
    "\n"
   ]
  },
  {
   "cell_type": "code",
   "execution_count": 31,
   "id": "aae8b56a-deae-4455-b8e4-d9061452fb52",
   "metadata": {},
   "outputs": [
    {
     "name": "stdout",
     "output_type": "stream",
     "text": [
      "('{\"type\": \"IMAGE\", \"gcs_location\": {\"uris\": '\n",
      " '[\"gs://ee-docs-demos/COG_demo.tif\"]}, \"properties\": {\"source\": '\n",
      " '\"https://code.earthengine.google.com/d541cf8b268b2f9d8f834c255698201d\"}, '\n",
      " '\"startTime\": \"2016-01-01T00:00:00.000000000Z\", \"endTime\": '\n",
      " '\"2016-12-31T15:01:23.000000000Z\"}')\n"
     ]
    }
   ],
   "source": [
    "#Request body\n",
    "#The request body is an instance of an EarthEngineAsset. This is where the path to the COG is specified, along with other useful properties. Note that the image is a small area exported from the composite made in this example script. See this doc for details on exporting a COG.\n",
    "\n",
    "#Earth Engine will determine the bands, geometry, and other relevant information from the metadata of the TIFF. The only other fields that are accepted when creating a COG-backed asset are properties, start_time, and end_time.\n",
    "\n",
    "\n",
    "# Request body as a dictionary.\n",
    "request = {\n",
    "  'type': 'IMAGE',\n",
    "  'gcs_location': {\n",
    "    'uris': ['gs://ee-docs-demos/COG_demo.tif']\n",
    "  },\n",
    "  'properties': {\n",
    "    'source': 'https://code.earthengine.google.com/d541cf8b268b2f9d8f834c255698201d'\n",
    "  },\n",
    "  'startTime': '2016-01-01T00:00:00.000000000Z',\n",
    "  'endTime': '2016-12-31T15:01:23.000000000Z',\n",
    "}\n",
    "\n",
    "from pprint import pprint\n",
    "pprint(json.dumps(request))"
   ]
  },
  {
   "cell_type": "code",
   "execution_count": 32,
   "id": "6448b76f-1eef-4153-a48f-f9fc61c69178",
   "metadata": {},
   "outputs": [
    {
     "name": "stdout",
     "output_type": "stream",
     "text": [
      "{'bands': [{'dataType': {'precision': 'INT', 'range': {'max': 255}},\n",
      "            'grid': {'affineTransform': {'scaleX': 8.983152841195215e-05,\n",
      "                                         'scaleY': -8.983152841195215e-05,\n",
      "                                         'translateX': 6.236014870829306,\n",
      "                                         'translateY': 46.32773616955514},\n",
      "                     'crsCode': 'EPSG:4326',\n",
      "                     'dimensions': {'height': 445, 'width': 1377}},\n",
      "            'id': 'vis-red',\n",
      "            'pyramidingPolicy': 'MEAN'},\n",
      "           {'dataType': {'precision': 'INT', 'range': {'max': 255}},\n",
      "            'grid': {'affineTransform': {'scaleX': 8.983152841195215e-05,\n",
      "                                         'scaleY': -8.983152841195215e-05,\n",
      "                                         'translateX': 6.236014870829306,\n",
      "                                         'translateY': 46.32773616955514},\n",
      "                     'crsCode': 'EPSG:4326',\n",
      "                     'dimensions': {'height': 445, 'width': 1377}},\n",
      "            'id': 'vis-green',\n",
      "            'pyramidingPolicy': 'MEAN'},\n",
      "           {'dataType': {'precision': 'INT', 'range': {'max': 255}},\n",
      "            'grid': {'affineTransform': {'scaleX': 8.983152841195215e-05,\n",
      "                                         'scaleY': -8.983152841195215e-05,\n",
      "                                         'translateX': 6.236014870829306,\n",
      "                                         'translateY': 46.32773616955514},\n",
      "                     'crsCode': 'EPSG:4326',\n",
      "                     'dimensions': {'height': 445, 'width': 1377}},\n",
      "            'id': 'vis-blue',\n",
      "            'pyramidingPolicy': 'MEAN'}],\n",
      " 'cloudStorageLocation': {'uris': ['gs://ee-docs-demos/COG_demo.tif#1590794954417102']},\n",
      " 'endTime': '2016-12-31T15:01:23Z',\n",
      " 'geometry': {'coordinates': [[6.236043504788144, 46.287716776977526],\n",
      "                              [6.236059904015608, 46.287716102045906],\n",
      "                              [6.3596678509560505, 46.287716089184194],\n",
      "                              [6.359727915120883, 46.287752597933036],\n",
      "                              [6.3597940800102295, 46.2877837028902],\n",
      "                              [6.359797149268432, 46.28779476122136],\n",
      "                              [6.359798213229762, 46.28780607798192],\n",
      "                              [6.359798319393221, 46.327691286606445],\n",
      "                              [6.359745343550236, 46.32773272525141],\n",
      "                              [6.359700374307739, 46.32777841920909],\n",
      "                              [6.359678968866528, 46.327781226782015],\n",
      "                              [6.236059688174414, 46.3277812206486],\n",
      "                              [6.235999676561427, 46.32774469012162],\n",
      "                              [6.235933550348835, 46.32771356082485],\n",
      "                              [6.2359294471519435, 46.32769872909129],\n",
      "                              [6.235929548131829, 46.287806065634996],\n",
      "                              [6.235982543630947, 46.287764573982926],\n",
      "                              [6.236027592290578, 46.2877188929882],\n",
      "                              [6.236043504788144, 46.287716776977526]],\n",
      "              'type': 'LineString'},\n",
      " 'id': 'users/serbinsh/testing_cogs2',\n",
      " 'name': 'projects/earthengine-legacy/assets/users/serbinsh/testing_cogs2',\n",
      " 'properties': {'source': 'https://code.earthengine.google.com/d541cf8b268b2f9d8f834c255698201d'},\n",
      " 'startTime': '2016-01-01T00:00:00Z',\n",
      " 'type': 'IMAGE',\n",
      " 'updateTime': '2021-07-12T18:58:34.918037Z'}\n"
     ]
    }
   ],
   "source": [
    "#Send the request\n",
    "#Make the POST request to the Earth Engine CreateAsset endpoint.\n",
    "\n",
    "# Where Earth Engine assets are kept.\n",
    "project_folder = 'earthengine-legacy'\n",
    "# Your user folder name and new asset name.\n",
    "asset_id = 'users/serbinsh/testing_cogs2'\n",
    "\n",
    "url = 'https://earthengine.googleapis.com/v1alpha/projects/{}/assets?assetId={}'\n",
    "\n",
    "response = session.post(\n",
    "  url = url.format(project_folder, asset_id),\n",
    "  data = json.dumps(request)\n",
    ")\n",
    "\n",
    "pprint(json.loads(response.content))"
   ]
  },
  {
   "cell_type": "code",
   "execution_count": null,
   "id": "50baa60f-4c5c-4ad4-8b49-975db4ce30dc",
   "metadata": {},
   "outputs": [],
   "source": []
  }
 ],
 "metadata": {
  "kernelspec": {
   "display_name": "Python 3 (ipykernel)",
   "language": "python",
   "name": "python3"
  },
  "language_info": {
   "codemirror_mode": {
    "name": "ipython",
    "version": 3
   },
   "file_extension": ".py",
   "mimetype": "text/x-python",
   "name": "python",
   "nbconvert_exporter": "python",
   "pygments_lexer": "ipython3",
   "version": "3.9.6"
  }
 },
 "nbformat": 4,
 "nbformat_minor": 5
}
